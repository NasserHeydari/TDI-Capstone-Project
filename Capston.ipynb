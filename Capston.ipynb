{
 "cells": [
  {
   "cell_type": "code",
   "execution_count": 14,
   "metadata": {},
   "outputs": [],
   "source": [
    "import pandas as pd\n",
    "import datetime\n",
    "import matplotlib.pyplot as plt\n",
    "import numpy as np\n",
    "from sklearn import base\n",
    "from sklearn.neighbors import KNeighborsRegressor"
   ]
  },
  {
   "cell_type": "markdown",
   "metadata": {},
   "source": [
    "# Read and Pre-process Data"
   ]
  },
  {
   "cell_type": "code",
   "execution_count": 15,
   "metadata": {},
   "outputs": [],
   "source": [
    "train = pd.read_csv('train.csv')\n",
    "wf1 = pd.read_csv('windforecasts_wf1.csv')\n",
    "wf2 = pd.read_csv('windforecasts_wf2.csv')\n",
    "wf3 = pd.read_csv('windforecasts_wf3.csv')\n",
    "wf4 = pd.read_csv('windforecasts_wf4.csv')\n",
    "wf5 = pd.read_csv('windforecasts_wf5.csv')\n",
    "wf6 = pd.read_csv('windforecasts_wf6.csv')\n",
    "wf7 = pd.read_csv('windforecasts_wf7.csv')"
   ]
  },
  {
   "cell_type": "code",
   "execution_count": 17,
   "metadata": {},
   "outputs": [
    {
     "data": {
      "text/html": [
       "<div>\n",
       "<style scoped>\n",
       "    .dataframe tbody tr th:only-of-type {\n",
       "        vertical-align: middle;\n",
       "    }\n",
       "\n",
       "    .dataframe tbody tr th {\n",
       "        vertical-align: top;\n",
       "    }\n",
       "\n",
       "    .dataframe thead th {\n",
       "        text-align: right;\n",
       "    }\n",
       "</style>\n",
       "<table border=\"1\" class=\"dataframe\">\n",
       "  <thead>\n",
       "    <tr style=\"text-align: right;\">\n",
       "      <th></th>\n",
       "      <th>date</th>\n",
       "      <th>hors</th>\n",
       "      <th>u</th>\n",
       "      <th>v</th>\n",
       "      <th>ws</th>\n",
       "      <th>wd</th>\n",
       "    </tr>\n",
       "  </thead>\n",
       "  <tbody>\n",
       "    <tr>\n",
       "      <th>0</th>\n",
       "      <td>2009070100</td>\n",
       "      <td>1</td>\n",
       "      <td>2.34</td>\n",
       "      <td>-0.79</td>\n",
       "      <td>2.47</td>\n",
       "      <td>108.68</td>\n",
       "    </tr>\n",
       "    <tr>\n",
       "      <th>1</th>\n",
       "      <td>2009070100</td>\n",
       "      <td>2</td>\n",
       "      <td>2.18</td>\n",
       "      <td>-0.99</td>\n",
       "      <td>2.40</td>\n",
       "      <td>114.31</td>\n",
       "    </tr>\n",
       "    <tr>\n",
       "      <th>2</th>\n",
       "      <td>2009070100</td>\n",
       "      <td>3</td>\n",
       "      <td>2.20</td>\n",
       "      <td>-1.21</td>\n",
       "      <td>2.51</td>\n",
       "      <td>118.71</td>\n",
       "    </tr>\n",
       "    <tr>\n",
       "      <th>3</th>\n",
       "      <td>2009070100</td>\n",
       "      <td>4</td>\n",
       "      <td>2.35</td>\n",
       "      <td>-1.40</td>\n",
       "      <td>2.73</td>\n",
       "      <td>120.86</td>\n",
       "    </tr>\n",
       "    <tr>\n",
       "      <th>4</th>\n",
       "      <td>2009070100</td>\n",
       "      <td>5</td>\n",
       "      <td>2.53</td>\n",
       "      <td>-1.47</td>\n",
       "      <td>2.93</td>\n",
       "      <td>120.13</td>\n",
       "    </tr>\n",
       "  </tbody>\n",
       "</table>\n",
       "</div>"
      ],
      "text/plain": [
       "         date  hors     u     v    ws      wd\n",
       "0  2009070100     1  2.34 -0.79  2.47  108.68\n",
       "1  2009070100     2  2.18 -0.99  2.40  114.31\n",
       "2  2009070100     3  2.20 -1.21  2.51  118.71\n",
       "3  2009070100     4  2.35 -1.40  2.73  120.86\n",
       "4  2009070100     5  2.53 -1.47  2.93  120.13"
      ]
     },
     "execution_count": 17,
     "metadata": {},
     "output_type": "execute_result"
    }
   ],
   "source": [
    "wf1.head()"
   ]
  },
  {
   "cell_type": "markdown",
   "metadata": {},
   "source": [
    "## Covert date to datetime format"
   ]
  },
  {
   "cell_type": "code",
   "execution_count": 18,
   "metadata": {},
   "outputs": [],
   "source": [
    "train['date'] = pd.to_datetime(train['date'], format='%Y%m%d%H', errors='ignore')"
   ]
  },
  {
   "cell_type": "code",
   "execution_count": 19,
   "metadata": {},
   "outputs": [],
   "source": [
    "wf1['date'] = pd.to_datetime(wf1['date'], format='%Y%m%d%H', errors='ignore') + pd.to_timedelta(wf1['hors'], unit = 'h')\n",
    "wf2['date'] = pd.to_datetime(wf2['date'], format='%Y%m%d%H', errors='ignore') + pd.to_timedelta(wf2['hors'], unit = 'h')\n",
    "wf3['date'] = pd.to_datetime(wf3['date'], format='%Y%m%d%H', errors='ignore') + pd.to_timedelta(wf3['hors'], unit = 'h')\n",
    "wf4['date'] = pd.to_datetime(wf4['date'], format='%Y%m%d%H', errors='ignore') + pd.to_timedelta(wf4['hors'], unit = 'h')\n",
    "wf5['date'] = pd.to_datetime(wf5['date'], format='%Y%m%d%H', errors='ignore') + pd.to_timedelta(wf5['hors'], unit = 'h')\n",
    "wf6['date'] = pd.to_datetime(wf6['date'], format='%Y%m%d%H', errors='ignore') + pd.to_timedelta(wf6['hors'], unit = 'h')\n",
    "wf7['date'] = pd.to_datetime(wf7['date'], format='%Y%m%d%H', errors='ignore') + pd.to_timedelta(wf7['hors'], unit = 'h')\n"
   ]
  },
  {
   "cell_type": "code",
   "execution_count": 21,
   "metadata": {},
   "outputs": [
    {
     "data": {
      "text/html": [
       "<div>\n",
       "<style scoped>\n",
       "    .dataframe tbody tr th:only-of-type {\n",
       "        vertical-align: middle;\n",
       "    }\n",
       "\n",
       "    .dataframe tbody tr th {\n",
       "        vertical-align: top;\n",
       "    }\n",
       "\n",
       "    .dataframe thead th {\n",
       "        text-align: right;\n",
       "    }\n",
       "</style>\n",
       "<table border=\"1\" class=\"dataframe\">\n",
       "  <thead>\n",
       "    <tr style=\"text-align: right;\">\n",
       "      <th></th>\n",
       "      <th>date</th>\n",
       "      <th>hors</th>\n",
       "      <th>u</th>\n",
       "      <th>v</th>\n",
       "      <th>ws</th>\n",
       "      <th>wd</th>\n",
       "    </tr>\n",
       "  </thead>\n",
       "  <tbody>\n",
       "    <tr>\n",
       "      <th>0</th>\n",
       "      <td>2009-07-01 01:00:00</td>\n",
       "      <td>1</td>\n",
       "      <td>2.34</td>\n",
       "      <td>-0.79</td>\n",
       "      <td>2.47</td>\n",
       "      <td>108.68</td>\n",
       "    </tr>\n",
       "    <tr>\n",
       "      <th>1</th>\n",
       "      <td>2009-07-01 02:00:00</td>\n",
       "      <td>2</td>\n",
       "      <td>2.18</td>\n",
       "      <td>-0.99</td>\n",
       "      <td>2.40</td>\n",
       "      <td>114.31</td>\n",
       "    </tr>\n",
       "    <tr>\n",
       "      <th>2</th>\n",
       "      <td>2009-07-01 03:00:00</td>\n",
       "      <td>3</td>\n",
       "      <td>2.20</td>\n",
       "      <td>-1.21</td>\n",
       "      <td>2.51</td>\n",
       "      <td>118.71</td>\n",
       "    </tr>\n",
       "    <tr>\n",
       "      <th>3</th>\n",
       "      <td>2009-07-01 04:00:00</td>\n",
       "      <td>4</td>\n",
       "      <td>2.35</td>\n",
       "      <td>-1.40</td>\n",
       "      <td>2.73</td>\n",
       "      <td>120.86</td>\n",
       "    </tr>\n",
       "    <tr>\n",
       "      <th>4</th>\n",
       "      <td>2009-07-01 05:00:00</td>\n",
       "      <td>5</td>\n",
       "      <td>2.53</td>\n",
       "      <td>-1.47</td>\n",
       "      <td>2.93</td>\n",
       "      <td>120.13</td>\n",
       "    </tr>\n",
       "  </tbody>\n",
       "</table>\n",
       "</div>"
      ],
      "text/plain": [
       "                 date  hors     u     v    ws      wd\n",
       "0 2009-07-01 01:00:00     1  2.34 -0.79  2.47  108.68\n",
       "1 2009-07-01 02:00:00     2  2.18 -0.99  2.40  114.31\n",
       "2 2009-07-01 03:00:00     3  2.20 -1.21  2.51  118.71\n",
       "3 2009-07-01 04:00:00     4  2.35 -1.40  2.73  120.86\n",
       "4 2009-07-01 05:00:00     5  2.53 -1.47  2.93  120.13"
      ]
     },
     "execution_count": 21,
     "metadata": {},
     "output_type": "execute_result"
    }
   ],
   "source": [
    "wf1.head()"
   ]
  },
  {
   "cell_type": "markdown",
   "metadata": {},
   "source": [
    "## Read until 2011/1/1 where full data are available "
   ]
  },
  {
   "cell_type": "code",
   "execution_count": 30,
   "metadata": {},
   "outputs": [],
   "source": [
    "train = train[0:13176]\n",
    "wf1 = wf1[0:52559]\n",
    "wf2 = wf2[0:52559]\n",
    "wf3 = wf3[0:52559]\n",
    "wf4 = wf4[0:52559]\n",
    "wf5 = wf5[0:52559]\n",
    "wf6 = wf6[0:52559]\n",
    "wf7 = wf7[0:52559]"
   ]
  },
  {
   "cell_type": "markdown",
   "metadata": {},
   "source": [
    "## Since there are several values for a specific date and time, we decided to groupby the values "
   ]
  },
  {
   "cell_type": "code",
   "execution_count": 31,
   "metadata": {},
   "outputs": [],
   "source": [
    "wf1 = wf1.groupby(['date']).mean()\n",
    "wf2 = wf2.groupby(['date']).mean()\n",
    "wf3 = wf3.groupby(['date']).mean()\n",
    "wf4 = wf4.groupby(['date']).mean()\n",
    "wf5 = wf5.groupby(['date']).mean()\n",
    "wf6 = wf6.groupby(['date']).mean()\n",
    "wf7 = wf7.groupby(['date']).mean()"
   ]
  },
  {
   "cell_type": "code",
   "execution_count": 32,
   "metadata": {},
   "outputs": [
    {
     "data": {
      "text/html": [
       "<div>\n",
       "<style scoped>\n",
       "    .dataframe tbody tr th:only-of-type {\n",
       "        vertical-align: middle;\n",
       "    }\n",
       "\n",
       "    .dataframe tbody tr th {\n",
       "        vertical-align: top;\n",
       "    }\n",
       "\n",
       "    .dataframe thead th {\n",
       "        text-align: right;\n",
       "    }\n",
       "</style>\n",
       "<table border=\"1\" class=\"dataframe\">\n",
       "  <thead>\n",
       "    <tr style=\"text-align: right;\">\n",
       "      <th></th>\n",
       "      <th>hors</th>\n",
       "      <th>u</th>\n",
       "      <th>v</th>\n",
       "      <th>ws</th>\n",
       "      <th>wd</th>\n",
       "    </tr>\n",
       "    <tr>\n",
       "      <th>date</th>\n",
       "      <th></th>\n",
       "      <th></th>\n",
       "      <th></th>\n",
       "      <th></th>\n",
       "      <th></th>\n",
       "    </tr>\n",
       "  </thead>\n",
       "  <tbody>\n",
       "    <tr>\n",
       "      <th>2009-07-01 01:00:00</th>\n",
       "      <td>1</td>\n",
       "      <td>2.34</td>\n",
       "      <td>-0.79</td>\n",
       "      <td>2.47</td>\n",
       "      <td>108.68</td>\n",
       "    </tr>\n",
       "    <tr>\n",
       "      <th>2009-07-01 02:00:00</th>\n",
       "      <td>2</td>\n",
       "      <td>2.18</td>\n",
       "      <td>-0.99</td>\n",
       "      <td>2.40</td>\n",
       "      <td>114.31</td>\n",
       "    </tr>\n",
       "    <tr>\n",
       "      <th>2009-07-01 03:00:00</th>\n",
       "      <td>3</td>\n",
       "      <td>2.20</td>\n",
       "      <td>-1.21</td>\n",
       "      <td>2.51</td>\n",
       "      <td>118.71</td>\n",
       "    </tr>\n",
       "    <tr>\n",
       "      <th>2009-07-01 04:00:00</th>\n",
       "      <td>4</td>\n",
       "      <td>2.35</td>\n",
       "      <td>-1.40</td>\n",
       "      <td>2.73</td>\n",
       "      <td>120.86</td>\n",
       "    </tr>\n",
       "    <tr>\n",
       "      <th>2009-07-01 05:00:00</th>\n",
       "      <td>5</td>\n",
       "      <td>2.53</td>\n",
       "      <td>-1.47</td>\n",
       "      <td>2.93</td>\n",
       "      <td>120.13</td>\n",
       "    </tr>\n",
       "  </tbody>\n",
       "</table>\n",
       "</div>"
      ],
      "text/plain": [
       "                     hors     u     v    ws      wd\n",
       "date                                               \n",
       "2009-07-01 01:00:00     1  2.34 -0.79  2.47  108.68\n",
       "2009-07-01 02:00:00     2  2.18 -0.99  2.40  114.31\n",
       "2009-07-01 03:00:00     3  2.20 -1.21  2.51  118.71\n",
       "2009-07-01 04:00:00     4  2.35 -1.40  2.73  120.86\n",
       "2009-07-01 05:00:00     5  2.53 -1.47  2.93  120.13"
      ]
     },
     "execution_count": 32,
     "metadata": {},
     "output_type": "execute_result"
    }
   ],
   "source": [
    "wf1.head()"
   ]
  },
  {
   "cell_type": "markdown",
   "metadata": {},
   "source": [
    "## In the next few cells we are trying to organize training datasets for each wind farm, some steps might seem too long!"
   ]
  },
  {
   "cell_type": "code",
   "execution_count": 33,
   "metadata": {},
   "outputs": [],
   "source": [
    "train1 = pd.DataFrame(columns=['date','WF','Energy'])\n",
    "train2 = pd.DataFrame(columns=['date','WF','Energy'])\n",
    "train3 = pd.DataFrame(columns=['date','WF','Energy'])\n",
    "train4 = pd.DataFrame(columns=['date','WF','Energy'])\n",
    "train5 = pd.DataFrame(columns=['date','WF','Energy'])\n",
    "train6 = pd.DataFrame(columns=['date','WF','Energy'])\n",
    "train7 = pd.DataFrame(columns=['date','WF','Energy'])\n",
    "\n",
    "train1['date']=train['date']\n",
    "train1['Energy']=train['wp1']\n",
    "train1['WF']=1\n",
    "\n",
    "train2['date']=train['date']\n",
    "train2['Energy']=train['wp2']\n",
    "train2['WF']=2\n",
    "\n",
    "train3['date']=train['date']\n",
    "train3['Energy']=train['wp3']\n",
    "train3['WF']=3\n",
    "\n",
    "train4['date']=train['date']\n",
    "train4['Energy']=train['wp4']\n",
    "train4['WF']=4\n",
    "\n",
    "train5['date']=train['date']\n",
    "train5['Energy']=train['wp5']\n",
    "train5['WF']=5\n",
    "\n",
    "train6['date']=train['date']\n",
    "train6['Energy']=train['wp6']\n",
    "train6['WF']=6\n",
    "\n",
    "train7['date']=train['date']\n",
    "train7['Energy']=train['wp7']\n",
    "train7['WF']=7"
   ]
  },
  {
   "cell_type": "code",
   "execution_count": 34,
   "metadata": {},
   "outputs": [],
   "source": [
    "s1 = wf1.join(train1.set_index('date'), on='date')\n",
    "s2 = wf2.join(train2.set_index('date'), on='date')\n",
    "s3 = wf3.join(train3.set_index('date'), on='date')\n",
    "s4 = wf4.join(train4.set_index('date'), on='date')\n",
    "s5 = wf5.join(train5.set_index('date'), on='date')\n",
    "s6 = wf6.join(train6.set_index('date'), on='date')\n",
    "s7 = wf7.join(train7.set_index('date'), on='date')"
   ]
  },
  {
   "cell_type": "code",
   "execution_count": 35,
   "metadata": {},
   "outputs": [],
   "source": [
    "s1 = s1[[ 'Energy','WF',  'u', 'v','ws','wd']].dropna()\n",
    "s2 = s2[[ 'Energy','WF',  'u', 'v','ws','wd']].dropna()\n",
    "s3 = s3[[ 'Energy','WF',  'u', 'v','ws','wd']].dropna()\n",
    "s4 = s4[[ 'Energy','WF',  'u', 'v','ws','wd']].dropna()\n",
    "s5 = s5[[ 'Energy','WF',  'u', 'v','ws','wd']].dropna()\n",
    "s6 = s6[[ 'Energy','WF',  'u', 'v','ws','wd']].dropna()\n",
    "s7 = s7[[ 'Energy','WF',  'u', 'v','ws','wd']].dropna()"
   ]
  },
  {
   "cell_type": "markdown",
   "metadata": {},
   "source": [
    "### We normalized data to make sure all values fall between 0 and 1"
   ]
  },
  {
   "cell_type": "code",
   "execution_count": 36,
   "metadata": {},
   "outputs": [],
   "source": [
    "s1.ws = s1.ws/s1.ws.max()\n",
    "s1.wd = s1.wd/s1.wd.max()\n",
    "s2.ws = s2.ws/s2.ws.max()\n",
    "s2.wd = s2.wd/s2.wd.max()\n",
    "s3.ws = s3.ws/s3.ws.max()\n",
    "s3.wd = s3.wd/s3.wd.max()\n",
    "s4.ws = s4.ws/s4.ws.max()\n",
    "s4.wd = s4.wd/s4.wd.max()\n",
    "s5.ws = s5.ws/s5.ws.max()\n",
    "s5.wd = s5.wd/s5.wd.max()\n",
    "s6.ws = s6.ws/s6.ws.max()\n",
    "s6.wd = s6.wd/s6.wd.max()\n",
    "s7.ws = s7.ws/s7.ws.max()\n",
    "s7.wd = s7.wd/s7.wd.max()"
   ]
  },
  {
   "cell_type": "markdown",
   "metadata": {},
   "source": [
    "## We identified that the mean energy production in the last four hours can significantly improve the performance of the model we will show later"
   ]
  },
  {
   "cell_type": "code",
   "execution_count": 37,
   "metadata": {},
   "outputs": [],
   "source": [
    "s1['mean_energy_last_4_hrs'] = (s1.Energy.rolling(5).sum() - s1.Energy)/4\n",
    "s2['mean_energy_last_4_hrs'] = (s2.Energy.rolling(5).sum() - s2.Energy)/4\n",
    "s3['mean_energy_last_4_hrs'] = (s3.Energy.rolling(5).sum() - s3.Energy)/4\n",
    "s4['mean_energy_last_4_hrs'] = (s4.Energy.rolling(5).sum() - s4.Energy)/4\n",
    "s5['mean_energy_last_4_hrs'] = (s5.Energy.rolling(5).sum() - s5.Energy)/4\n",
    "s6['mean_energy_last_4_hrs'] = (s6.Energy.rolling(5).sum() - s6.Energy)/4\n",
    "s7['mean_energy_last_4_hrs'] = (s7.Energy.rolling(5).sum() - s7.Energy)/4"
   ]
  },
  {
   "cell_type": "markdown",
   "metadata": {},
   "source": [
    "# Here we concat the training data (tables) created for each wind farm in the previous steps "
   ]
  },
  {
   "cell_type": "code",
   "execution_count": 169,
   "metadata": {},
   "outputs": [],
   "source": [
    "frames = [s1.dropna(), s2.dropna(), s3.dropna(), s4.dropna(), s5.dropna(), s6.dropna(), s7.dropna()]\n",
    "train_new = pd.concat(frames,sort=False)"
   ]
  },
  {
   "cell_type": "markdown",
   "metadata": {},
   "source": [
    "# The below figure shows the variation of hourly wind energy production "
   ]
  },
  {
   "cell_type": "code",
   "execution_count": 170,
   "metadata": {},
   "outputs": [
    {
     "data": {
      "text/plain": [
       "<matplotlib.axes._subplots.AxesSubplot at 0x7f2e1ce29630>"
      ]
     },
     "execution_count": 170,
     "metadata": {},
     "output_type": "execute_result"
    },
    {
     "data": {
      "image/png": "[encoded data removed]",
      "text/plain": [
       "<Figure size 432x288 with 1 Axes>"
      ]
     },
     "metadata": {},
     "output_type": "display_data"
    }
   ],
   "source": [
    "train_new.groupby(train_new.index.date).mean().Energy.plot()"
   ]
  },
  {
   "cell_type": "markdown",
   "metadata": {},
   "source": [
    " # Create training and test dataset\n",
    " ## we keep ~75% of data for model training and ~25% of data for testing the model"
   ]
  },
  {
   "cell_type": "code",
   "execution_count": 205,
   "metadata": {},
   "outputs": [],
   "source": [
    "CUT_YEAR = '2010-8-15'\n",
    "\n",
    "train_set = train_new[train_new.index < CUT_YEAR]\n",
    "test_set = train_new[train_new.index >= CUT_YEAR]\n"
   ]
  },
  {
   "cell_type": "code",
   "execution_count": 206,
   "metadata": {},
   "outputs": [
    {
     "data": {
      "text/plain": [
       "(0.7467162705944879, 0.25328372940551214)"
      ]
     },
     "execution_count": 206,
     "metadata": {},
     "output_type": "execute_result"
    }
   ],
   "source": [
    "train_set.shape[0] / train_new.shape[0] , test_set.shape[0] / train_new.shape[0]"
   ]
  },
  {
   "cell_type": "code",
   "execution_count": 207,
   "metadata": {},
   "outputs": [
    {
     "data": {
      "text/html": [
       "<div>\n",
       "<style scoped>\n",
       "    .dataframe tbody tr th:only-of-type {\n",
       "        vertical-align: middle;\n",
       "    }\n",
       "\n",
       "    .dataframe tbody tr th {\n",
       "        vertical-align: top;\n",
       "    }\n",
       "\n",
       "    .dataframe thead th {\n",
       "        text-align: right;\n",
       "    }\n",
       "</style>\n",
       "<table border=\"1\" class=\"dataframe\">\n",
       "  <thead>\n",
       "    <tr style=\"text-align: right;\">\n",
       "      <th></th>\n",
       "      <th>Energy</th>\n",
       "      <th>WF</th>\n",
       "      <th>u</th>\n",
       "      <th>v</th>\n",
       "      <th>ws</th>\n",
       "      <th>wd</th>\n",
       "      <th>mean_energy_last_4_hrs</th>\n",
       "    </tr>\n",
       "    <tr>\n",
       "      <th>date</th>\n",
       "      <th></th>\n",
       "      <th></th>\n",
       "      <th></th>\n",
       "      <th></th>\n",
       "      <th></th>\n",
       "      <th></th>\n",
       "      <th></th>\n",
       "    </tr>\n",
       "  </thead>\n",
       "  <tbody>\n",
       "    <tr>\n",
       "      <th>2009-07-01 05:00:00</th>\n",
       "      <td>0.035</td>\n",
       "      <td>1</td>\n",
       "      <td>2.53</td>\n",
       "      <td>-1.47</td>\n",
       "      <td>0.226299</td>\n",
       "      <td>0.335819</td>\n",
       "      <td>0.05250</td>\n",
       "    </tr>\n",
       "    <tr>\n",
       "      <th>2009-07-01 06:00:00</th>\n",
       "      <td>0.005</td>\n",
       "      <td>1</td>\n",
       "      <td>2.66</td>\n",
       "      <td>-1.29</td>\n",
       "      <td>0.228616</td>\n",
       "      <td>0.323687</td>\n",
       "      <td>0.04000</td>\n",
       "    </tr>\n",
       "    <tr>\n",
       "      <th>2009-07-01 07:00:00</th>\n",
       "      <td>0.000</td>\n",
       "      <td>1</td>\n",
       "      <td>2.69</td>\n",
       "      <td>-0.81</td>\n",
       "      <td>0.217030</td>\n",
       "      <td>0.298304</td>\n",
       "      <td>0.03625</td>\n",
       "    </tr>\n",
       "  </tbody>\n",
       "</table>\n",
       "</div>"
      ],
      "text/plain": [
       "                     Energy  WF     u     v        ws        wd  \\\n",
       "date                                                              \n",
       "2009-07-01 05:00:00   0.035   1  2.53 -1.47  0.226299  0.335819   \n",
       "2009-07-01 06:00:00   0.005   1  2.66 -1.29  0.228616  0.323687   \n",
       "2009-07-01 07:00:00   0.000   1  2.69 -0.81  0.217030  0.298304   \n",
       "\n",
       "                     mean_energy_last_4_hrs  \n",
       "date                                         \n",
       "2009-07-01 05:00:00                 0.05250  \n",
       "2009-07-01 06:00:00                 0.04000  \n",
       "2009-07-01 07:00:00                 0.03625  "
      ]
     },
     "execution_count": 207,
     "metadata": {},
     "output_type": "execute_result"
    }
   ],
   "source": [
    "train_set.head(3)"
   ]
  },
  {
   "cell_type": "markdown",
   "metadata": {},
   "source": [
    "# Let's do modeling"
   ]
  },
  {
   "cell_type": "markdown",
   "metadata": {},
   "source": [
    "## Since we want to predict hourly wind energy production, thus it seems reasonable to have hour and month as two independent variables"
   ]
  },
  {
   "cell_type": "code",
   "execution_count": 208,
   "metadata": {},
   "outputs": [],
   "source": [
    "df_train = train_set\n",
    "df_test = test_set"
   ]
  },
  {
   "cell_type": "code",
   "execution_count": 209,
   "metadata": {
    "scrolled": true
   },
   "outputs": [
    {
     "data": {
      "text/html": [
       "<div>\n",
       "<style scoped>\n",
       "    .dataframe tbody tr th:only-of-type {\n",
       "        vertical-align: middle;\n",
       "    }\n",
       "\n",
       "    .dataframe tbody tr th {\n",
       "        vertical-align: top;\n",
       "    }\n",
       "\n",
       "    .dataframe thead th {\n",
       "        text-align: right;\n",
       "    }\n",
       "</style>\n",
       "<table border=\"1\" class=\"dataframe\">\n",
       "  <thead>\n",
       "    <tr style=\"text-align: right;\">\n",
       "      <th></th>\n",
       "      <th>Energy</th>\n",
       "      <th>WF</th>\n",
       "      <th>u</th>\n",
       "      <th>v</th>\n",
       "      <th>ws</th>\n",
       "      <th>wd</th>\n",
       "      <th>mean_energy_last_4_hrs</th>\n",
       "    </tr>\n",
       "    <tr>\n",
       "      <th>date</th>\n",
       "      <th></th>\n",
       "      <th></th>\n",
       "      <th></th>\n",
       "      <th></th>\n",
       "      <th></th>\n",
       "      <th></th>\n",
       "      <th></th>\n",
       "    </tr>\n",
       "  </thead>\n",
       "  <tbody>\n",
       "    <tr>\n",
       "      <th>2009-07-01 05:00:00</th>\n",
       "      <td>0.035</td>\n",
       "      <td>1</td>\n",
       "      <td>2.53</td>\n",
       "      <td>-1.47</td>\n",
       "      <td>0.226299</td>\n",
       "      <td>0.335819</td>\n",
       "      <td>0.05250</td>\n",
       "    </tr>\n",
       "    <tr>\n",
       "      <th>2009-07-01 06:00:00</th>\n",
       "      <td>0.005</td>\n",
       "      <td>1</td>\n",
       "      <td>2.66</td>\n",
       "      <td>-1.29</td>\n",
       "      <td>0.228616</td>\n",
       "      <td>0.323687</td>\n",
       "      <td>0.04000</td>\n",
       "    </tr>\n",
       "    <tr>\n",
       "      <th>2009-07-01 07:00:00</th>\n",
       "      <td>0.000</td>\n",
       "      <td>1</td>\n",
       "      <td>2.69</td>\n",
       "      <td>-0.81</td>\n",
       "      <td>0.217030</td>\n",
       "      <td>0.298304</td>\n",
       "      <td>0.03625</td>\n",
       "    </tr>\n",
       "    <tr>\n",
       "      <th>2009-07-01 08:00:00</th>\n",
       "      <td>0.000</td>\n",
       "      <td>1</td>\n",
       "      <td>2.72</td>\n",
       "      <td>-0.26</td>\n",
       "      <td>0.210852</td>\n",
       "      <td>0.266659</td>\n",
       "      <td>0.02125</td>\n",
       "    </tr>\n",
       "    <tr>\n",
       "      <th>2009-07-01 09:00:00</th>\n",
       "      <td>0.010</td>\n",
       "      <td>1</td>\n",
       "      <td>2.87</td>\n",
       "      <td>0.08</td>\n",
       "      <td>0.221664</td>\n",
       "      <td>0.247398</td>\n",
       "      <td>0.01000</td>\n",
       "    </tr>\n",
       "  </tbody>\n",
       "</table>\n",
       "</div>"
      ],
      "text/plain": [
       "                     Energy  WF     u     v        ws        wd  \\\n",
       "date                                                              \n",
       "2009-07-01 05:00:00   0.035   1  2.53 -1.47  0.226299  0.335819   \n",
       "2009-07-01 06:00:00   0.005   1  2.66 -1.29  0.228616  0.323687   \n",
       "2009-07-01 07:00:00   0.000   1  2.69 -0.81  0.217030  0.298304   \n",
       "2009-07-01 08:00:00   0.000   1  2.72 -0.26  0.210852  0.266659   \n",
       "2009-07-01 09:00:00   0.010   1  2.87  0.08  0.221664  0.247398   \n",
       "\n",
       "                     mean_energy_last_4_hrs  \n",
       "date                                         \n",
       "2009-07-01 05:00:00                 0.05250  \n",
       "2009-07-01 06:00:00                 0.04000  \n",
       "2009-07-01 07:00:00                 0.03625  \n",
       "2009-07-01 08:00:00                 0.02125  \n",
       "2009-07-01 09:00:00                 0.01000  "
      ]
     },
     "execution_count": 209,
     "metadata": {},
     "output_type": "execute_result"
    }
   ],
   "source": [
    "df_train.head()"
   ]
  },
  {
   "cell_type": "code",
   "execution_count": 210,
   "metadata": {},
   "outputs": [],
   "source": [
    "# new_index = [i for i in range(0, df.shape[0])]\n",
    "# df.index = new_index "
   ]
  },
  {
   "cell_type": "code",
   "execution_count": 212,
   "metadata": {},
   "outputs": [],
   "source": [
    "df_train['Julian'] = df_train.index.to_julian_date()\n",
    "df_train['sin(day)'] = np.sin(df_train.index.hour / 24.0 * 2* np.pi)\n",
    "df_train['cos(day)'] = np.cos(df_train.index.hour / 24.0 * 2* np.pi)\n",
    "df_train['sin(3mo)'] = np.sin(df_train['Julian'] / (365.25 / 4) * 2 * np.pi)\n",
    "df_train['cos(3mo)'] = np.cos(df_train['Julian'] / (365.25 / 4) * 2 * np.pi)\n",
    "df_train['hour'] = df_train.index.hour\n",
    "df_train['month'] = df_train.index.month\n",
    "df_train['date'] = df_train.index\n",
    "new_index = [i for i in range(0, df_train.shape[0])]\n",
    "df_train.index = new_index \n",
    "\n",
    "\n",
    "df_test['Julian'] = df_test.index.to_julian_date()\n",
    "df_test['sin(day)'] = np.sin(df_test.index.hour / 24.0 * 2* np.pi)\n",
    "df_test['cos(day)'] = np.cos(df_test.index.hour / 24.0 * 2* np.pi)\n",
    "df_test['sin(3mo)'] = np.sin(df_test['Julian'] / (365.25 / 4) * 2 * np.pi)\n",
    "df_test['cos(3mo)'] = np.cos(df_test['Julian'] / (365.25 / 4) * 2 * np.pi)\n",
    "df_test['hour'] = df_test.index.hour\n",
    "df_test['month'] = df_test.index.month\n",
    "df_test['date'] = df_test.index\n",
    "new_index = [i for i in range(0, df_test.shape[0])]\n",
    "df_test.index = new_index "
   ]
  },
  {
   "cell_type": "code",
   "execution_count": 213,
   "metadata": {},
   "outputs": [
    {
     "data": {
      "text/html": [
       "<div>\n",
       "<style scoped>\n",
       "    .dataframe tbody tr th:only-of-type {\n",
       "        vertical-align: middle;\n",
       "    }\n",
       "\n",
       "    .dataframe tbody tr th {\n",
       "        vertical-align: top;\n",
       "    }\n",
       "\n",
       "    .dataframe thead th {\n",
       "        text-align: right;\n",
       "    }\n",
       "</style>\n",
       "<table border=\"1\" class=\"dataframe\">\n",
       "  <thead>\n",
       "    <tr style=\"text-align: right;\">\n",
       "      <th></th>\n",
       "      <th>Energy</th>\n",
       "      <th>WF</th>\n",
       "      <th>u</th>\n",
       "      <th>v</th>\n",
       "      <th>ws</th>\n",
       "      <th>wd</th>\n",
       "      <th>mean_energy_last_4_hrs</th>\n",
       "      <th>Julian</th>\n",
       "      <th>sin(day)</th>\n",
       "      <th>cos(day)</th>\n",
       "      <th>sin(3mo)</th>\n",
       "      <th>cos(3mo)</th>\n",
       "      <th>hour</th>\n",
       "      <th>month</th>\n",
       "      <th>date</th>\n",
       "    </tr>\n",
       "  </thead>\n",
       "  <tbody>\n",
       "    <tr>\n",
       "      <th>0</th>\n",
       "      <td>0.035</td>\n",
       "      <td>1</td>\n",
       "      <td>2.53</td>\n",
       "      <td>-1.47</td>\n",
       "      <td>0.226299</td>\n",
       "      <td>0.335819</td>\n",
       "      <td>0.05250</td>\n",
       "      <td>2.455014e+06</td>\n",
       "      <td>0.965926</td>\n",
       "      <td>2.588190e-01</td>\n",
       "      <td>-0.827592</td>\n",
       "      <td>0.561330</td>\n",
       "      <td>5</td>\n",
       "      <td>7</td>\n",
       "      <td>2009-07-01 05:00:00</td>\n",
       "    </tr>\n",
       "    <tr>\n",
       "      <th>1</th>\n",
       "      <td>0.005</td>\n",
       "      <td>1</td>\n",
       "      <td>2.66</td>\n",
       "      <td>-1.29</td>\n",
       "      <td>0.228616</td>\n",
       "      <td>0.323687</td>\n",
       "      <td>0.04000</td>\n",
       "      <td>2.455014e+06</td>\n",
       "      <td>1.000000</td>\n",
       "      <td>6.123234e-17</td>\n",
       "      <td>-0.825979</td>\n",
       "      <td>0.563701</td>\n",
       "      <td>6</td>\n",
       "      <td>7</td>\n",
       "      <td>2009-07-01 06:00:00</td>\n",
       "    </tr>\n",
       "    <tr>\n",
       "      <th>2</th>\n",
       "      <td>0.000</td>\n",
       "      <td>1</td>\n",
       "      <td>2.69</td>\n",
       "      <td>-0.81</td>\n",
       "      <td>0.217030</td>\n",
       "      <td>0.298304</td>\n",
       "      <td>0.03625</td>\n",
       "      <td>2.455014e+06</td>\n",
       "      <td>0.965926</td>\n",
       "      <td>-2.588190e-01</td>\n",
       "      <td>-0.824360</td>\n",
       "      <td>0.566067</td>\n",
       "      <td>7</td>\n",
       "      <td>7</td>\n",
       "      <td>2009-07-01 07:00:00</td>\n",
       "    </tr>\n",
       "    <tr>\n",
       "      <th>3</th>\n",
       "      <td>0.000</td>\n",
       "      <td>1</td>\n",
       "      <td>2.72</td>\n",
       "      <td>-0.26</td>\n",
       "      <td>0.210852</td>\n",
       "      <td>0.266659</td>\n",
       "      <td>0.02125</td>\n",
       "      <td>2.455014e+06</td>\n",
       "      <td>0.866025</td>\n",
       "      <td>-5.000000e-01</td>\n",
       "      <td>-0.822733</td>\n",
       "      <td>0.568428</td>\n",
       "      <td>8</td>\n",
       "      <td>7</td>\n",
       "      <td>2009-07-01 08:00:00</td>\n",
       "    </tr>\n",
       "    <tr>\n",
       "      <th>4</th>\n",
       "      <td>0.010</td>\n",
       "      <td>1</td>\n",
       "      <td>2.87</td>\n",
       "      <td>0.08</td>\n",
       "      <td>0.221664</td>\n",
       "      <td>0.247398</td>\n",
       "      <td>0.01000</td>\n",
       "      <td>2.455014e+06</td>\n",
       "      <td>0.707107</td>\n",
       "      <td>-7.071068e-01</td>\n",
       "      <td>-0.821100</td>\n",
       "      <td>0.570784</td>\n",
       "      <td>9</td>\n",
       "      <td>7</td>\n",
       "      <td>2009-07-01 09:00:00</td>\n",
       "    </tr>\n",
       "  </tbody>\n",
       "</table>\n",
       "</div>"
      ],
      "text/plain": [
       "   Energy  WF     u     v        ws        wd  mean_energy_last_4_hrs  \\\n",
       "0   0.035   1  2.53 -1.47  0.226299  0.335819                 0.05250   \n",
       "1   0.005   1  2.66 -1.29  0.228616  0.323687                 0.04000   \n",
       "2   0.000   1  2.69 -0.81  0.217030  0.298304                 0.03625   \n",
       "3   0.000   1  2.72 -0.26  0.210852  0.266659                 0.02125   \n",
       "4   0.010   1  2.87  0.08  0.221664  0.247398                 0.01000   \n",
       "\n",
       "         Julian  sin(day)      cos(day)  sin(3mo)  cos(3mo)  hour  month  \\\n",
       "0  2.455014e+06  0.965926  2.588190e-01 -0.827592  0.561330     5      7   \n",
       "1  2.455014e+06  1.000000  6.123234e-17 -0.825979  0.563701     6      7   \n",
       "2  2.455014e+06  0.965926 -2.588190e-01 -0.824360  0.566067     7      7   \n",
       "3  2.455014e+06  0.866025 -5.000000e-01 -0.822733  0.568428     8      7   \n",
       "4  2.455014e+06  0.707107 -7.071068e-01 -0.821100  0.570784     9      7   \n",
       "\n",
       "                 date  \n",
       "0 2009-07-01 05:00:00  \n",
       "1 2009-07-01 06:00:00  \n",
       "2 2009-07-01 07:00:00  \n",
       "3 2009-07-01 08:00:00  \n",
       "4 2009-07-01 09:00:00  "
      ]
     },
     "execution_count": 213,
     "metadata": {},
     "output_type": "execute_result"
    }
   ],
   "source": [
    "df_train.head()"
   ]
  },
  {
   "cell_type": "markdown",
   "metadata": {},
   "source": [
    "## We decided to include mean energy production for each hour for each wind farm and as independent variable"
   ]
  },
  {
   "cell_type": "code",
   "execution_count": 214,
   "metadata": {},
   "outputs": [],
   "source": [
    "group_by_farm_hour_train = df_train.groupby(['hour','WF']).mean()['Energy']\n",
    "group_by_farm_hour_test = df_test.groupby(['hour','WF']).mean()['Energy']"
   ]
  },
  {
   "cell_type": "code",
   "execution_count": 215,
   "metadata": {},
   "outputs": [],
   "source": [
    "mean_by_hour_train = pd.DataFrame(group_by_farm_hour_train).rename(columns = {'Energy':'mean_Energy_hour'})\n",
    "mean_by_hour_test = pd.DataFrame(group_by_farm_hour_test).rename(columns = {'Energy':'mean_Energy_hour'})"
   ]
  },
  {
   "cell_type": "code",
   "execution_count": 216,
   "metadata": {},
   "outputs": [],
   "source": [
    "df_train = df_train.merge(mean_by_hour_train, left_on=['hour','WF'], right_index=True)\n",
    "df_test = df_test.merge(mean_by_hour_test, left_on=['hour','WF'], right_index=True)"
   ]
  },
  {
   "cell_type": "code",
   "execution_count": 217,
   "metadata": {},
   "outputs": [],
   "source": [
    "df_train = df_train.sort_values(['WF', 'date'], ascending=[True, True])\n",
    "df_test = df_test.sort_values(['WF', 'date'], ascending=[True, True])"
   ]
  },
  {
   "cell_type": "code",
   "execution_count": 218,
   "metadata": {},
   "outputs": [
    {
     "data": {
      "text/html": [
       "<div>\n",
       "<style scoped>\n",
       "    .dataframe tbody tr th:only-of-type {\n",
       "        vertical-align: middle;\n",
       "    }\n",
       "\n",
       "    .dataframe tbody tr th {\n",
       "        vertical-align: top;\n",
       "    }\n",
       "\n",
       "    .dataframe thead th {\n",
       "        text-align: right;\n",
       "    }\n",
       "</style>\n",
       "<table border=\"1\" class=\"dataframe\">\n",
       "  <thead>\n",
       "    <tr style=\"text-align: right;\">\n",
       "      <th></th>\n",
       "      <th>Energy</th>\n",
       "      <th>WF</th>\n",
       "      <th>u</th>\n",
       "      <th>v</th>\n",
       "      <th>ws</th>\n",
       "      <th>wd</th>\n",
       "      <th>mean_energy_last_4_hrs</th>\n",
       "      <th>Julian</th>\n",
       "      <th>sin(day)</th>\n",
       "      <th>cos(day)</th>\n",
       "      <th>sin(3mo)</th>\n",
       "      <th>cos(3mo)</th>\n",
       "      <th>hour</th>\n",
       "      <th>month</th>\n",
       "      <th>date</th>\n",
       "      <th>mean_Energy_hour</th>\n",
       "    </tr>\n",
       "  </thead>\n",
       "  <tbody>\n",
       "    <tr>\n",
       "      <th>0</th>\n",
       "      <td>0.035</td>\n",
       "      <td>1</td>\n",
       "      <td>2.53</td>\n",
       "      <td>-1.47</td>\n",
       "      <td>0.226299</td>\n",
       "      <td>0.335819</td>\n",
       "      <td>0.05250</td>\n",
       "      <td>2.455014e+06</td>\n",
       "      <td>0.965926</td>\n",
       "      <td>2.588190e-01</td>\n",
       "      <td>-0.827592</td>\n",
       "      <td>0.561330</td>\n",
       "      <td>5</td>\n",
       "      <td>7</td>\n",
       "      <td>2009-07-01 05:00:00</td>\n",
       "      <td>0.239020</td>\n",
       "    </tr>\n",
       "    <tr>\n",
       "      <th>1</th>\n",
       "      <td>0.005</td>\n",
       "      <td>1</td>\n",
       "      <td>2.66</td>\n",
       "      <td>-1.29</td>\n",
       "      <td>0.228616</td>\n",
       "      <td>0.323687</td>\n",
       "      <td>0.04000</td>\n",
       "      <td>2.455014e+06</td>\n",
       "      <td>1.000000</td>\n",
       "      <td>6.123234e-17</td>\n",
       "      <td>-0.825979</td>\n",
       "      <td>0.563701</td>\n",
       "      <td>6</td>\n",
       "      <td>7</td>\n",
       "      <td>2009-07-01 06:00:00</td>\n",
       "      <td>0.230995</td>\n",
       "    </tr>\n",
       "    <tr>\n",
       "      <th>2</th>\n",
       "      <td>0.000</td>\n",
       "      <td>1</td>\n",
       "      <td>2.69</td>\n",
       "      <td>-0.81</td>\n",
       "      <td>0.217030</td>\n",
       "      <td>0.298304</td>\n",
       "      <td>0.03625</td>\n",
       "      <td>2.455014e+06</td>\n",
       "      <td>0.965926</td>\n",
       "      <td>-2.588190e-01</td>\n",
       "      <td>-0.824360</td>\n",
       "      <td>0.566067</td>\n",
       "      <td>7</td>\n",
       "      <td>7</td>\n",
       "      <td>2009-07-01 07:00:00</td>\n",
       "      <td>0.225363</td>\n",
       "    </tr>\n",
       "    <tr>\n",
       "      <th>3</th>\n",
       "      <td>0.000</td>\n",
       "      <td>1</td>\n",
       "      <td>2.72</td>\n",
       "      <td>-0.26</td>\n",
       "      <td>0.210852</td>\n",
       "      <td>0.266659</td>\n",
       "      <td>0.02125</td>\n",
       "      <td>2.455014e+06</td>\n",
       "      <td>0.866025</td>\n",
       "      <td>-5.000000e-01</td>\n",
       "      <td>-0.822733</td>\n",
       "      <td>0.568428</td>\n",
       "      <td>8</td>\n",
       "      <td>7</td>\n",
       "      <td>2009-07-01 08:00:00</td>\n",
       "      <td>0.219527</td>\n",
       "    </tr>\n",
       "    <tr>\n",
       "      <th>4</th>\n",
       "      <td>0.010</td>\n",
       "      <td>1</td>\n",
       "      <td>2.87</td>\n",
       "      <td>0.08</td>\n",
       "      <td>0.221664</td>\n",
       "      <td>0.247398</td>\n",
       "      <td>0.01000</td>\n",
       "      <td>2.455014e+06</td>\n",
       "      <td>0.707107</td>\n",
       "      <td>-7.071068e-01</td>\n",
       "      <td>-0.821100</td>\n",
       "      <td>0.570784</td>\n",
       "      <td>9</td>\n",
       "      <td>7</td>\n",
       "      <td>2009-07-01 09:00:00</td>\n",
       "      <td>0.216090</td>\n",
       "    </tr>\n",
       "  </tbody>\n",
       "</table>\n",
       "</div>"
      ],
      "text/plain": [
       "   Energy  WF     u     v        ws        wd  mean_energy_last_4_hrs  \\\n",
       "0   0.035   1  2.53 -1.47  0.226299  0.335819                 0.05250   \n",
       "1   0.005   1  2.66 -1.29  0.228616  0.323687                 0.04000   \n",
       "2   0.000   1  2.69 -0.81  0.217030  0.298304                 0.03625   \n",
       "3   0.000   1  2.72 -0.26  0.210852  0.266659                 0.02125   \n",
       "4   0.010   1  2.87  0.08  0.221664  0.247398                 0.01000   \n",
       "\n",
       "         Julian  sin(day)      cos(day)  sin(3mo)  cos(3mo)  hour  month  \\\n",
       "0  2.455014e+06  0.965926  2.588190e-01 -0.827592  0.561330     5      7   \n",
       "1  2.455014e+06  1.000000  6.123234e-17 -0.825979  0.563701     6      7   \n",
       "2  2.455014e+06  0.965926 -2.588190e-01 -0.824360  0.566067     7      7   \n",
       "3  2.455014e+06  0.866025 -5.000000e-01 -0.822733  0.568428     8      7   \n",
       "4  2.455014e+06  0.707107 -7.071068e-01 -0.821100  0.570784     9      7   \n",
       "\n",
       "                 date  mean_Energy_hour  \n",
       "0 2009-07-01 05:00:00          0.239020  \n",
       "1 2009-07-01 06:00:00          0.230995  \n",
       "2 2009-07-01 07:00:00          0.225363  \n",
       "3 2009-07-01 08:00:00          0.219527  \n",
       "4 2009-07-01 09:00:00          0.216090  "
      ]
     },
     "execution_count": 218,
     "metadata": {},
     "output_type": "execute_result"
    }
   ],
   "source": [
    "df_train.head()"
   ]
  },
  {
   "cell_type": "code",
   "execution_count": 219,
   "metadata": {},
   "outputs": [],
   "source": [
    "from sklearn.base import BaseEstimator, TransformerMixin\n",
    "from sklearn.pipeline import FeatureUnion\n",
    "from sklearn.model_selection import GridSearchCV\n",
    "from sklearn.preprocessing import OneHotEncoder\n",
    "from sklearn.pipeline import Pipeline \n",
    "from sklearn.ensemble import RandomForestRegressor\n",
    "\n",
    "class ColumnSelectTransformer(base.BaseEstimator, base.TransformerMixin):\n",
    "    \n",
    "    def __init__(self, col_names):\n",
    "        self.col_names = col_names  \n",
    "    \n",
    "    def fit(self, X, y=None):\n",
    "        return self\n",
    "    \n",
    "    def transform(self, X):\n",
    "        return X[self.col_names]"
   ]
  },
  {
   "cell_type": "code",
   "execution_count": 220,
   "metadata": {},
   "outputs": [],
   "source": [
    "class GroupbyEstimator(base.BaseEstimator, base.RegressorMixin):\n",
    "    \n",
    "    def __init__(self, column):\n",
    "        self.column = column                      \n",
    "        self.WF_model = dict()                                          \n",
    " \n",
    "    def fit(self, X, y=None):\n",
    "        for WF, group in X.groupby(self.column):\n",
    "            group = group.sample(frac=1).reset_index(drop=True)\n",
    "            MY_FU = []\n",
    "            MY_FU = FeatureUnion([(\"cst\", ColumnSelectTransformer(['ws','wd','mean_Energy_hour','mean_energy_last_4_hrs','sin(day)','cos(day)','sin(3mo)','cos(3mo)'])),\n",
    "                                  (\"month\", Pipeline([(\"cst\", ColumnSelectTransformer(['month'])),(\"onehot\", OneHotEncoder())])),\n",
    "                                  (\"hour\", Pipeline([(\"cst\", ColumnSelectTransformer(['hour'])),(\"onehot\", OneHotEncoder())]))])    \n",
    "            \n",
    "            pipe = Pipeline([(\"Union\", MY_FU ),\n",
    "                             (\"rf\", RandomForestRegressor())])\n",
    "            \n",
    "            param_grid = {'rf__min_samples_leaf': range(1, 20, 5)}\n",
    "\n",
    "            model = GridSearchCV(pipe, param_grid, iid=False, cv= 4)\n",
    "            \n",
    "            self.WF_model[WF] = model.fit(group,group.Energy)\n",
    "            \n",
    "        return self                                 \n",
    "  \n",
    "    def predict(self, X):          \n",
    "        predictions = {}\n",
    "        final = []\n",
    "        for WF, group in X.groupby(self.column):    \n",
    "            pred = self.WF_model[WF].predict(group)\n",
    "            for i in range(0,len(group.index)):\n",
    "                predictions[group.index[i]] = pred[i] \n",
    "        for key in sorted(predictions.keys()):\n",
    "            final.append(predictions[key])\n",
    "        \n",
    "        return final"
   ]
  },
  {
   "cell_type": "code",
   "execution_count": 221,
   "metadata": {},
   "outputs": [],
   "source": [
    "from sklearn.pipeline import Pipeline \n",
    "\n",
    "pipe = Pipeline([(\"Estimator\", GroupbyEstimator('WF'))])\n",
    "                  "
   ]
  },
  {
   "cell_type": "markdown",
   "metadata": {},
   "source": [
    "# check the performance of the model"
   ]
  },
  {
   "cell_type": "code",
   "execution_count": 222,
   "metadata": {},
   "outputs": [
    {
     "data": {
      "text/plain": [
       "0.9036353608577754"
      ]
     },
     "execution_count": 222,
     "metadata": {},
     "output_type": "execute_result"
    }
   ],
   "source": [
    "from sklearn.metrics import r2_score\n",
    "\n",
    "pipe.fit(df_train)\n",
    "\n",
    "r2_score(pipe.predict(df_train),df_train.Energy)"
   ]
  },
  {
   "cell_type": "code",
   "execution_count": 241,
   "metadata": {},
   "outputs": [
    {
     "data": {
      "text/plain": [
       "[<matplotlib.lines.Line2D at 0x7f2e1cba2ef0>]"
      ]
     },
     "execution_count": 241,
     "metadata": {},
     "output_type": "execute_result"
    },
    {
     "data": {
      "image/png": "[encoded data removed]",
      "text/plain": [
       "<Figure size 432x288 with 1 Axes>"
      ]
     },
     "metadata": {},
     "output_type": "display_data"
    }
   ],
   "source": [
    "fig, ax = plt.subplots()\n",
    "ax.plot(df_train.Energy[0:4000])\n",
    "ax.plot(pd.DataFrame(pipe.predict(df_train))[0:4000])"
   ]
  },
  {
   "cell_type": "code",
   "execution_count": 223,
   "metadata": {
    "scrolled": true
   },
   "outputs": [
    {
     "data": {
      "text/plain": [
       "0.8190398014329253"
      ]
     },
     "execution_count": 223,
     "metadata": {},
     "output_type": "execute_result"
    }
   ],
   "source": [
    "r2_score(pipe.predict(df_test),df_test.Energy)"
   ]
  },
  {
   "cell_type": "code",
   "execution_count": 240,
   "metadata": {},
   "outputs": [
    {
     "data": {
      "text/plain": [
       "[<matplotlib.lines.Line2D at 0x7f2e1cc3db70>]"
      ]
     },
     "execution_count": 240,
     "metadata": {},
     "output_type": "execute_result"
    },
    {
     "data": {
      "image/png": "[encoded data removed]",
      "text/plain": [
       "<Figure size 432x288 with 1 Axes>"
      ]
     },
     "metadata": {},
     "output_type": "display_data"
    }
   ],
   "source": [
    "fig, ax = plt.subplots()\n",
    "ax.plot(df_test.Energy[0:4000])\n",
    "ax.plot(pd.DataFrame(pipe.predict(df_test))[0:4000])"
   ]
  },
  {
   "cell_type": "code",
   "execution_count": null,
   "metadata": {},
   "outputs": [],
   "source": []
  }
 ],
 "metadata": {
  "kernelspec": {
   "display_name": "Python 3",
   "language": "python",
   "name": "python3"
  },
  "language_info": {
   "codemirror_mode": {
    "name": "ipython",
    "version": 3
   },
   "file_extension": ".py",
   "mimetype": "text/x-python",
   "name": "python",
   "nbconvert_exporter": "python",
   "pygments_lexer": "ipython3",
   "version": "3.6.2"
  }
 },
 "nbformat": 4,
 "nbformat_minor": 2
}
